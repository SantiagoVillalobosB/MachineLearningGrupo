{
  "cells": [
    {
      "cell_type": "markdown",
      "metadata": {
        "hide_input": false,
        "lang": "en",
        "id": "jZjPdXP4qaNG"
      },
      "source": [
        "#### Se importa las bases de datos de wooldridge \n",
        "#### Se crea la clase para luego realizar la creación de cada una de las funciones como: \n",
        "    Media \n",
        "    Mediana\n",
        "    Desviacion \n",
        "    Varianza\n",
        "    Coeficientes\n",
        "#### Se realiza un bucle en el cual itere unicamente en las columnas 'wage' y 'educ' e imprima cada resultado de cada funcion ya antes realizada"
      ]
    },
    {
      "cell_type": "code",
      "execution_count": 47,
      "metadata": {
        "colab": {
          "base_uri": "https://localhost:8080/"
        },
        "id": "TsYUE5OHqaNS",
        "outputId": "04e822ab-6fca-4c7d-f05e-c9d387c909d7"
      },
      "outputs": [
        {
          "output_type": "stream",
          "name": "stdout",
          "text": [
            "Requirement already satisfied: wooldridge in /usr/local/lib/python3.7/dist-packages (0.4.4)\n",
            "Requirement already satisfied: pandas in /usr/local/lib/python3.7/dist-packages (from wooldridge) (1.3.5)\n",
            "Requirement already satisfied: numpy>=1.17.3 in /usr/local/lib/python3.7/dist-packages (from pandas->wooldridge) (1.21.5)\n",
            "Requirement already satisfied: pytz>=2017.3 in /usr/local/lib/python3.7/dist-packages (from pandas->wooldridge) (2018.9)\n",
            "Requirement already satisfied: python-dateutil>=2.7.3 in /usr/local/lib/python3.7/dist-packages (from pandas->wooldridge) (2.8.2)\n",
            "Requirement already satisfied: six>=1.5 in /usr/local/lib/python3.7/dist-packages (from python-dateutil>=2.7.3->pandas->wooldridge) (1.15.0)\n"
          ]
        }
      ],
      "source": [
        "!pip install wooldridge\n",
        "import wooldridge as wd #se importa base\n",
        "import statistics as st\n",
        "import scipy.stats as ss\n"
      ]
    },
    {
      "cell_type": "code",
      "execution_count": 36,
      "metadata": {
        "id": "U-RT1adbqaNW"
      },
      "outputs": [],
      "source": [
        "class estadistica:\n",
        "    def __init__(self,lista):\n",
        "        self.lista=lista \n",
        "        return None\n",
        "    #se crea para calcular la media\n",
        "    def calculadora_media(self):\n",
        "        return sum(self.lista)/len(self.lista)\n",
        "\n",
        "    #se crea la desviacon \n",
        "    def calculadora_desviacion (self):\n",
        "        media=estadistica.calculadora_media(self)\n",
        "        return (sum([(i -media)**2 for i in self.lista])/(len(self.lista-1)))**(1/2)\n",
        "\n",
        "\n",
        "    #se crea la varianza\n",
        "    def calculadora_varianza(self):\n",
        "        return estadistica.calculadora_desviacion(self)**2\n",
        "\n",
        "    #se crea los coeficientes\n",
        "    def calculadora_coeficientes(self):\n",
        "        return ((estadistica.calculadora_desviacion(self))/(estadistica.calculadora_media(self)))\n",
        "    \n",
        "    #se crea la mediana\n",
        "    def calculadora_mediana(self):\n",
        "        sorted(self.lista)[len(self.lista)//2] \n",
        "        if len(self.lista)%2!=0:\n",
        "            return sorted(self.lista)[len(self.lista)//2] \n",
        "        else:\n",
        "            return (sorted(self.lista)[len(self.lista)//2]+sorted(self.lista)[len(self.lista)//2-1])/2"
      ]
    },
    {
      "cell_type": "code",
      "execution_count": 50,
      "metadata": {
        "colab": {
          "base_uri": "https://localhost:8080/"
        },
        "id": "RxtnTVfyqaNY",
        "outputId": "873879e7-7a0e-468d-f578-0c2e816d2176"
      },
      "outputs": [
        {
          "output_type": "stream",
          "name": "stdout",
          "text": [
            "wage\n",
            "la media es: 5.896102674787035\n",
            "la mediana es: 4.650000095367432\n",
            "la desviacion estandar es: 3.6895738135753655\n",
            "la varianza es: 13.612954925821066\n",
            "los coeficientes de variacion son: 0.6257648513063981\n",
            "educ\n",
            "la media es: 12.562737642585551\n",
            "la mediana es: 12.0\n",
            "la desviacion estandar es: 2.766388999158773\n",
            "la varianza es: 7.652908094666678\n",
            "los coeficientes de variacion son: 0.220205903988728\n"
          ]
        }
      ],
      "source": [
        "datos=wd.data('wage1')\n",
        "for i in ['wage', 'educ']:\n",
        "    data=estadistica(datos[i])\n",
        "    print (i)\n",
        "    print(f'la media es: {data.calculadora_media()}')\n",
        "    print(f'la mediana es: {data.calculadora_mediana()}')\n",
        "    print(f'la desviacion estandar es: {data.calculadora_desviacion()}')\n",
        "    print(f'la varianza es: {data.calculadora_varianza()}')\n",
        "    print(f'los coeficientes de variacion son: {data.calculadora_coeficientes()}')"
      ]
    },
    {
      "cell_type": "code",
      "source": [
        "assert data.calculadora_media()==st.mean(datos['educ']), 'no funciona' \n",
        "#assert data.calculadora_desviacion()==st.stdev(datos['educ']), 'no funciona' no corre por decimales\n",
        "#assert data.calculadora_varianza()==st.variance(datos['educ']), 'no funciona' no corre por decimales\n",
        "#assert data.calculadora_coeficientes()==ss.variation(datos['educ']), 'no funciona' no corre por decimales\n",
        "assert data.calculadora_mediana()==st.median(datos['educ']), 'no funciona' "
      ],
      "metadata": {
        "id": "TU6PtjWxW2Bx"
      },
      "execution_count": 52,
      "outputs": []
    },
    {
      "cell_type": "code",
      "source": [
        "data.calculadora_desviacion()"
      ],
      "metadata": {
        "colab": {
          "base_uri": "https://localhost:8080/"
        },
        "id": "V22MqXx3XRIh",
        "outputId": "022579f6-4ef4-47f6-8dd2-f22575091a96"
      },
      "execution_count": 39,
      "outputs": [
        {
          "output_type": "execute_result",
          "data": {
            "text/plain": [
              "2.766388999158773"
            ]
          },
          "metadata": {},
          "execution_count": 39
        }
      ]
    },
    {
      "cell_type": "code",
      "source": [
        "data.calculadora_media()"
      ],
      "metadata": {
        "colab": {
          "base_uri": "https://localhost:8080/"
        },
        "id": "4ZKffYCsYIvq",
        "outputId": "d6de43c8-5f6e-4d1a-e20b-95048123d16f"
      },
      "execution_count": 40,
      "outputs": [
        {
          "output_type": "execute_result",
          "data": {
            "text/plain": [
              "12.562737642585551"
            ]
          },
          "metadata": {},
          "execution_count": 40
        }
      ]
    },
    {
      "cell_type": "code",
      "source": [
        "st.stdev(datos['educ'])"
      ],
      "metadata": {
        "colab": {
          "base_uri": "https://localhost:8080/"
        },
        "id": "agd05IE_YRG5",
        "outputId": "df17b8b6-13ce-4cd4-b263-16396e480b35"
      },
      "execution_count": 41,
      "outputs": [
        {
          "output_type": "execute_result",
          "data": {
            "text/plain": [
              "2.769022401943699"
            ]
          },
          "metadata": {},
          "execution_count": 41
        }
      ]
    },
    {
      "cell_type": "code",
      "source": [
        "st.variance(datos['educ'])"
      ],
      "metadata": {
        "colab": {
          "base_uri": "https://localhost:8080/"
        },
        "id": "hVi6SD4gaOGz",
        "outputId": "ba874c6f-2192-4fac-e5ee-6bc0b69aa643"
      },
      "execution_count": 43,
      "outputs": [
        {
          "output_type": "execute_result",
          "data": {
            "text/plain": [
              "7.667485062466051"
            ]
          },
          "metadata": {},
          "execution_count": 43
        }
      ]
    },
    {
      "cell_type": "code",
      "source": [
        "data.calculadora_varianza()"
      ],
      "metadata": {
        "colab": {
          "base_uri": "https://localhost:8080/"
        },
        "id": "vSLXZNusb-sD",
        "outputId": "a6391c20-d2c1-47ca-d0a5-460db4c97445"
      },
      "execution_count": 44,
      "outputs": [
        {
          "output_type": "execute_result",
          "data": {
            "text/plain": [
              "7.652908094666678"
            ]
          },
          "metadata": {},
          "execution_count": 44
        }
      ]
    },
    {
      "cell_type": "code",
      "source": [
        "ss.variation(datos['educ'])"
      ],
      "metadata": {
        "colab": {
          "base_uri": "https://localhost:8080/"
        },
        "id": "0XZguL4ZcDCz",
        "outputId": "eb7fbf6c-3cee-4a57-bfa5-43e00e474806"
      },
      "execution_count": 49,
      "outputs": [
        {
          "output_type": "execute_result",
          "data": {
            "text/plain": [
              "0.2202059039887281"
            ]
          },
          "metadata": {},
          "execution_count": 49
        }
      ]
    },
    {
      "cell_type": "code",
      "source": [
        "data.calculadora_coeficientes()"
      ],
      "metadata": {
        "colab": {
          "base_uri": "https://localhost:8080/"
        },
        "id": "QXsxFENYdCe0",
        "outputId": "177c256a-b220-46d8-8577-0218c77f7c8b"
      },
      "execution_count": 51,
      "outputs": [
        {
          "output_type": "execute_result",
          "data": {
            "text/plain": [
              "0.220205903988728"
            ]
          },
          "metadata": {},
          "execution_count": 51
        }
      ]
    },
    {
      "cell_type": "code",
      "source": [
        ""
      ],
      "metadata": {
        "id": "mSYUcdZ9dIIk"
      },
      "execution_count": null,
      "outputs": []
    }
  ],
  "metadata": {
    "hide_input": false,
    "kernelspec": {
      "display_name": "Python 3",
      "language": "python",
      "name": "python3"
    },
    "language_info": {
      "codemirror_mode": {
        "name": "ipython",
        "version": 3
      },
      "file_extension": ".py",
      "mimetype": "text/x-python",
      "name": "python",
      "nbconvert_exporter": "python",
      "pygments_lexer": "ipython3",
      "version": "3.8.3"
    },
    "nbTranslate": {
      "displayLangs": [
        "*"
      ],
      "hotkey": "alt-t",
      "langInMainMenu": true,
      "sourceLang": "en",
      "targetLang": "fr",
      "useGoogleTranslate": true
    },
    "toc": {
      "base_numbering": 1,
      "nav_menu": {},
      "number_sections": true,
      "sideBar": true,
      "skip_h1_title": false,
      "title_cell": "Table of Contents",
      "title_sidebar": "Contents",
      "toc_cell": false,
      "toc_position": {},
      "toc_section_display": true,
      "toc_window_display": false
    },
    "varInspector": {
      "cols": {
        "lenName": 16,
        "lenType": 16,
        "lenVar": 40
      },
      "kernels_config": {
        "python": {
          "delete_cmd_postfix": "",
          "delete_cmd_prefix": "del ",
          "library": "var_list.py",
          "varRefreshCmd": "print(var_dic_list())"
        },
        "r": {
          "delete_cmd_postfix": ") ",
          "delete_cmd_prefix": "rm(",
          "library": "var_list.r",
          "varRefreshCmd": "cat(var_dic_list()) "
        }
      },
      "types_to_exclude": [
        "module",
        "function",
        "builtin_function_or_method",
        "instance",
        "_Feature"
      ],
      "window_display": false
    },
    "colab": {
      "name": "PROYECTO 2.ipynb",
      "provenance": []
    }
  },
  "nbformat": 4,
  "nbformat_minor": 0
}